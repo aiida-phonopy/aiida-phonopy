{
 "cells": [
  {
   "attachments": {},
   "cell_type": "markdown",
   "metadata": {},
   "source": [
    "\n",
    "# Intermidiate Tutorial\n",
    "\n",
    "In this tutorial you will learn how to define the non-analytical constants for the Data types presented in the [previous tutorial](./basic.ipynb).\n",
    "\n",
    "## Polar insulators\n",
    "\n",
    "The phonon band structure of bulk polar insulators, which we define to be insulators with different atomic species (e.g. AlAs, BaTiO{sub}`3`),\n",
    "needs extra quantities to be interpolated correctly around the gamma point. These quantities are the so called __non-analytical constants__. They are composed by two tensors:\n",
    "\n",
    "1. __Dielectric tensor__: this is the high-frequency dielectric tensor of the material, $\\epsilon^{\\infty}_{ij}$.\n",
    "2. __Born effective charges tensor__: these are effective charges of the nuclei, usually expressed in unit of charge $e$, $Z^{*}_{I,ij}$\n",
    "\n",
    "The indices $i$ and $j$ refer to the three Cartesian axes, while $I$ is the atomic index.\n",
    "\n",
    "```{important}\n",
    "The tensors $Z^{*}_{I,ij}$ are not symmetric with the exchange of $i$ and $j$!\n",
    "```\n",
    "\n",
    "```{admonition} Convention\n",
    ":class: important \n",
    "In `Phonopy` and `aiida-phonopy`, the convention for $Z^{*}_{I,ij}$ indices is as follow:\n",
    "\n",
    "1. Atomic index.\n",
    "2. Polarization index.\n",
    "3. Atomic displacement index.\n",
    "```\n",
    "\n",
    "Let's show this with _AlAs_. On the same lines of the [basic tutorial](./basic.ipynb), we define \n",
    "{py:class}`~aiida_phonopy.data.preprocess.PreProcessData`:"
   ]
  },
  {
   "cell_type": "code",
   "execution_count": 1,
   "metadata": {},
   "outputs": [],
   "source": [
    "\n",
    "# ================= IMPORTS ======================== #\n",
    "from local_module import load_temp_profile\n",
    "from aiida.plugins import DataFactory, CalculationFactory\n",
    "from aiida.orm import load_code, Dict\n",
    "# If you download this file, you can run it with your own profile.\n",
    "# Put these lines instead:\n",
    "# from aiida import load_profile\n",
    "# load_profile()\n",
    "load_temp_profile(\n",
    "    name=\"intermidiate-tutorial\",\n",
    "    add_computer=True,\n",
    "    add_phonopy_code=True,\n",
    ")\n",
    "\n",
    "StructureData = DataFactory(\"core.structure\")\n",
    "PreProcessData = DataFactory(\"phonopy.preprocess\")\n",
    "PhonopyData = DataFactory(\"phonopy.phonopy\")\n",
    "PhonopyCalculation = CalculationFactory(\"phonopy.phonopy\")\n",
    "# ============== STRUCTURE DATA ==================== #\n",
    "a = 2.839\n",
    "cell = [[0,a,a],[a,0,a],[a,a,0]]\n",
    "structure = StructureData(cell=cell)\n",
    "structure.append_atom(position=(0,0,0), symbols=\"Al\")\n",
    "structure.append_atom(position=(0.5*a,0.5*a,0.5*a), symbols=\"As\")\n",
    "# ============= PREPROCESS DATA ==================== #\n",
    "supercell_matrix = [[-1,1,1],[1,-1,1],[1,1,-1]] # standard cell 8 atoms\n",
    "preprocess_data =  PreProcessData(structure=structure, supercell_matrix=supercell_matrix)"
   ]
  },
  {
   "attachments": {},
   "cell_type": "markdown",
   "metadata": {},
   "source": [
    "We could go through and compute the forces for the displaced structure. The result would be:"
   ]
  },
  {
   "cell_type": "code",
   "execution_count": 2,
   "metadata": {},
   "outputs": [],
   "source": [
    "dict_of_forces = {\n",
    "    \"forces_1\": \n",
    "    [\n",
    "        [-0.0988347466,    0.0000000000,    0.0000000000],\n",
    "        [-0.0200237511,    0.0000000000,    0.0000000000],\n",
    "        [ 0.0135502277,    0.0000000000,    0.0000000000],\n",
    "        [ 0.0135502277,    0.0000000000,    0.0000000000],\n",
    "        [ 0.0230530248,    0.0183687320,    0.0183687320],\n",
    "        [ 0.0230530248,   -0.0183687320,   -0.0183687320],\n",
    "        [ 0.0228262535,    0.0179280450,   -0.0179280450],\n",
    "        [ 0.0228262535,   -0.0179280450,    0.0179280450],\n",
    "    ],\n",
    "    \"forces_2\": \n",
    "    [\n",
    "        [ 0.0228136551,    0.0179285592,    0.0179285592],\n",
    "        [ 0.0228136551,   -0.0179285592,   -0.0179285592],\n",
    "        [ 0.0230645948,   -0.0183682178,    0.0183682178],\n",
    "        [ 0.0230645948,    0.0183682178,   -0.0183682178],\n",
    "        [-0.1025024252,    0.0000000000,    0.0000000000],\n",
    "        [-0.0044662632,    0.0000000000,    0.0000000000],\n",
    "        [ 0.0076060944,    0.0000000000,    0.0000000000],\n",
    "        [ 0.0076060944,    0.0000000000,    0.0000000000],\n",
    "    ]\n",
    "}\n",
    "\n",
    "phonopy_data =  PhonopyData(preprocess_data=preprocess_data)\n",
    "phonopy_data.set_forces(dict_of_forces=dict_of_forces)"
   ]
  },
  {
   "attachments": {},
   "cell_type": "markdown",
   "metadata": {},
   "source": [
    "We may want to try to compute the band structure of the phonons directly."
   ]
  },
  {
   "cell_type": "code",
   "execution_count": 3,
   "metadata": {},
   "outputs": [],
   "source": [
    "builder = PhonopyCalculation.get_builder()\n",
    "builder.code = load_code(\"phonopy@localhost\") # WARNING! You may redefine this\n",
    "builder.phonopy_data = phonopy_data\n",
    "builder.parameters = Dict({\"band\":\"auto\"})"
   ]
  },
  {
   "attachments": {},
   "cell_type": "markdown",
   "metadata": {},
   "source": [
    "Submit the calculation."
   ]
  },
  {
   "cell_type": "code",
   "execution_count": 4,
   "metadata": {},
   "outputs": [
    {
     "name": "stdout",
     "output_type": "stream",
     "text": [
      "These are the final results:\n"
     ]
    },
    {
     "data": {
      "text/plain": [
       "{'output_parameters': <Dict: uuid: e3b55843-b54e-4e25-8da7-85727147d047 (pk: 7)>,\n",
       " 'phonon_bands': <BandsData: uuid: bec34aa0-6e64-4c27-8d28-4c95f76d925c (pk: 8)>,\n",
       " 'remote_folder': <RemoteData: uuid: 06590bc5-538b-40df-a968-769097ac9510 (pk: 5)>,\n",
       " 'retrieved': <FolderData: uuid: 45f7613c-66cc-45ab-8a8d-94c6b22391a4 (pk: 6)>}"
      ]
     },
     "execution_count": 4,
     "metadata": {},
     "output_type": "execute_result"
    }
   ],
   "source": [
    "from aiida.engine import run_get_node\n",
    "\n",
    "results, node = run_get_node(builder)\n",
    "print(\"These are the final results:\")\n",
    "results"
   ]
  },
  {
   "attachments": {},
   "cell_type": "markdown",
   "metadata": {},
   "source": [
    "Check the phonon dispersion."
   ]
  },
  {
   "cell_type": "code",
   "execution_count": 5,
   "metadata": {},
   "outputs": [
    {
     "data": {
      "image/png": "[encoded data removed]",
      "text/plain": [
       "<Figure size 432x288 with 1 Axes>"
      ]
     },
     "metadata": {
      "needs_background": "light"
     },
     "output_type": "display_data"
    }
   ],
   "source": [
    "node.outputs.phonon_bands.show_mpl()"
   ]
  },
  {
   "attachments": {},
   "cell_type": "markdown",
   "metadata": {},
   "source": [
    "It looks fine, isn't it?\n",
    "\n",
    "Actually, there is a subtle discrepancy. If one would compare this with experiments, a phonon mode seems to miss at $\\Gamma$! \n",
    "Try to answer the following question before continuing the tutorial.\n",
    "\n",
    "```{admonition} Question: Can you explain why? \n",
    ":class: tip dropdown\n",
    "\n",
    "The interpolation is missing the _long-range_ contributions. An analytical model can be devised to account for these interactions, often called **dipole-dipole** approximation. This accounts for up to the dipole expansion, meaning accounting for the dielectric and Born effective charges (the dipoles) tensors. Higher order contribution can be added, such as quadrupoles and octupoles (see e.g. [Royo et al., Phys. Rev. Lett., **125** (2020)](https://journals.aps.org/prl/abstract/10.1103/PhysRevLett.125.217602)).\n",
    "```\n",
    "\n",
    "Let's now add the non-analytical contribution (NAC). Imagine we have already computed such quantities.\n",
    "\n",
    ":::{admonition} NAC calculation\n",
    ":class: tip dropdown\n",
    "\n",
    "The calculation of these quantities can be done in different ways. Usually DFPT implementations are used, or alternatively finite differences upon small electric fields.\n",
    ":::"
   ]
  },
  {
   "cell_type": "code",
   "execution_count": 6,
   "metadata": {},
   "outputs": [],
   "source": [
    "phonopy_data_nac = phonopy_data.clone() # the `phonopy_data` is now immutable in AiiDA!\n",
    "\n",
    "born_charges = [\n",
    "    [\n",
    "        [+2.1576, 0, 0], \n",
    "        [0, +2.1576, 0], \n",
    "        [0, 0, +2.1576]\n",
    "    ],\n",
    "    [\n",
    "        [-2.1576, 0, 0],\n",
    "        [0, -2.1576, 0],\n",
    "        [0, 0, -2.1576]\n",
    "    ],\n",
    "]\n",
    "\n",
    "dielectric = [\n",
    "    [9.4626, 0, 0],\n",
    "    [0, 9.4626, 0],\n",
    "    [0, 0, 9.4626],\n",
    "]\n",
    "\n",
    "phonopy_data_nac.set_born_charges(born_charges)\n",
    "phonopy_data_nac.set_dielectric(dielectric)"
   ]
  },
  {
   "attachments": {},
   "cell_type": "markdown",
   "metadata": {},
   "source": [
    "Does it have the NAC now? Let's ask!"
   ]
  },
  {
   "cell_type": "code",
   "execution_count": 7,
   "metadata": {},
   "outputs": [
    {
     "data": {
      "text/plain": [
       "True"
      ]
     },
     "execution_count": 7,
     "metadata": {},
     "output_type": "execute_result"
    }
   ],
   "source": [
    "phonopy_data_nac.has_nac_parameters()"
   ]
  },
  {
   "attachments": {},
   "cell_type": "markdown",
   "metadata": {},
   "source": [
    "Hurray!\n",
    "\n",
    "Now we can recompute the band structure and see if something changes."
   ]
  },
  {
   "cell_type": "code",
   "execution_count": 8,
   "metadata": {},
   "outputs": [
    {
     "data": {
      "image/png": "[encoded data removed]",
      "text/plain": [
       "<Figure size 432x288 with 1 Axes>"
      ]
     },
     "metadata": {
      "needs_background": "light"
     },
     "output_type": "display_data"
    }
   ],
   "source": [
    "builder.phonopy_data = phonopy_data_nac\n",
    "\n",
    "results, node = run_get_node(builder)\n",
    "node.outputs.phonon_bands.show_mpl()"
   ]
  },
  {
   "attachments": {},
   "cell_type": "markdown",
   "metadata": {},
   "source": [
    "A huge splitting at $\\Gamma$ appeared! This is often referred to as __LO-TO splitting__. \n",
    "\n",
    "If you want to learn more features, continue with the [next tutorial](./advanced.ipynb)."
   ]
  }
 ],
 "metadata": {
  "kernelspec": {
   "display_name": "base",
   "language": "python",
   "name": "python3"
  },
  "language_info": {
   "codemirror_mode": {
    "name": "ipython",
    "version": 3
   },
   "file_extension": ".py",
   "mimetype": "text/x-python",
   "name": "python",
   "nbconvert_exporter": "python",
   "pygments_lexer": "ipython3",
   "version": "3.8.10"
  },
  "orig_nbformat": 4,
  "vscode": {
   "interpreter": {
    "hash": "d4d1e4263499bec80672ea0156c357c1ee493ec2b1c70f0acce89fc37c4a6abe"
   }
  }
 },
 "nbformat": 4,
 "nbformat_minor": 2
}
