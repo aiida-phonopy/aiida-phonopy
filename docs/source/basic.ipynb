{
 "cells": [
  {
   "attachments": {},
   "cell_type": "markdown",
   "metadata": {},
   "source": [
    "\n",
    "# Basic Tutorial\n",
    "\n",
    "In this tutorial you will learn the basics of `aiida-phonopy`.\n",
    "At the core of the package are the data types wrapping the Phonopy classes to generate structures in AiiDA, connecting them in the graph.\n",
    "\n",
    "We can divide the main workflow of Phonopy in two phases:\n",
    "\n",
    "* __Pre-processing__: generate the (supercell) structures with displacements on top of which to compute the forces (for frozen phonons).\n",
    "* __Post-process__: collect the data, ideally in a compact way, and use it for extracting phonon-related properties.\n",
    "\n",
    "In this tutorial we will make use of the silicon structure to give you an overall understanding of the usage of the package.\n",
    "If you are interested in more advanced features, please have a look at the [next tutorial](./intermidiate.ipynb) or to the [how tos](../howto/index.rst).\n",
    "\n",
    "Let's get started!"
   ]
  },
  {
   "attachments": {},
   "cell_type": "markdown",
   "metadata": {},
   "source": [
    "## Generating supercell structures\n",
    "\n",
    "In a frozen phonon calculation, you need to first define the structures with displacements on top of which computing the forces.\n",
    "Here, you will learn how to do so in AiiDA, and how to obtain the displaced structures\n",
    "as {py:class}`~aiida.orm.StructureData` instances with full provenance.\n",
    "\n",
    "```{admonition} Exercise\n",
    "We will use the silicon structure throughout the tutorials, but this can be easily\n",
    "substituted with any structure of your interest.\n",
    "```\n",
    "\n",
    "First, import the required classes and functions:"
   ]
  },
  {
   "cell_type": "code",
   "execution_count": 1,
   "metadata": {},
   "outputs": [],
   "source": [
    "\n",
    "from local_module import load_temp_profile\n",
    "from aiida.plugins import DataFactory\n",
    "\n",
    "# If you download this file, you can run it with your own profile.\n",
    "# Put these lines instead:\n",
    "# from aiida import load_profile\n",
    "# load_profile()\n",
    "load_temp_profile(\n",
    "    name=\"basic-tutorial\",\n",
    "    add_computer=True,\n",
    "    add_phonopy_code=True,\n",
    ")\n",
    "\n",
    "\n",
    "StructureData = DataFactory(\"core.structure\")"
   ]
  },
  {
   "attachments": {},
   "cell_type": "markdown",
   "metadata": {},
   "source": [
    "Let's define the silicon structure using the ASE module:"
   ]
  },
  {
   "cell_type": "code",
   "execution_count": 2,
   "metadata": {},
   "outputs": [],
   "source": [
    "# Create a silicon cubic crystal\n",
    "a = 2.716\n",
    "cell = [[0,a,a],[a,0,a],[a,a,0]]\n",
    "\n",
    "structure = StructureData(cell=cell)\n",
    "structure.append_atom(position=(a,a,a), symbols=\"Si\")\n",
    "structure.append_atom(position=(1.5*a,1.5*a,1.5*a), symbols=\"Si\")"
   ]
  },
  {
   "attachments": {},
   "cell_type": "markdown",
   "metadata": {},
   "source": [
    "We can now load the structure in the {py:class}`~aiida_phonopy.data.PreProcessData`,\n",
    "used to store and specify frozen phonon *preprocess information*, such as the supercell\n",
    "matrix."
   ]
  },
  {
   "cell_type": "code",
   "execution_count": 3,
   "metadata": {},
   "outputs": [],
   "source": [
    "PreProcessData = DataFactory(\"phonopy.preprocess\")\n",
    "\n",
    "supercell_matrix = [2,2,2] # similar to a q point mesh in DFPT approaches\n",
    "preprocess_data =  PreProcessData(structure=structure, supercell_matrix=supercell_matrix)"
   ]
  },
  {
   "attachments": {},
   "cell_type": "markdown",
   "metadata": {},
   "source": [
    "If not specified, the ``PreProcessData`` will automatically set other needed variables, such as the *primitive matrix*.\n",
    "\n",
    "```{note}\n",
    "To access this data, try to use the tab completion after typing **preprocess_data**. in the shell to navigate the\n",
    "stored data: can you find the defined supercell matrix? And the primitive matrix?\n",
    "```\n",
    "\n",
    "The structure that we set can be get using:"
   ]
  },
  {
   "cell_type": "code",
   "execution_count": 4,
   "metadata": {},
   "outputs": [
    {
     "name": "stdout",
     "output_type": "stream",
     "text": [
      "[[0.0, 2.716, 2.716], [2.716, 0.0, 2.716], [2.716, 2.716, 0.0]]\n"
     ]
    }
   ],
   "source": [
    "unitcell = preprocess_data.get_unitcell()\n",
    "print(unitcell.cell)"
   ]
  },
  {
   "attachments": {},
   "cell_type": "markdown",
   "metadata": {},
   "source": [
    "```{admonition} Exercise\n",
    "Can you tell it is the same structure we set?\n",
    "```\n",
    "\n",
    "As we specified the ``supercell_matrix``, the ``preprocess_data`` set a supercell\n",
    "with that dimensions in respect to the input structure."
   ]
  },
  {
   "cell_type": "code",
   "execution_count": 5,
   "metadata": {},
   "outputs": [
    {
     "name": "stdout",
     "output_type": "stream",
     "text": [
      "[[0.0, 5.432, 5.432], [5.432, 0.0, 5.432], [5.432, 5.432, 0.0]]\n"
     ]
    }
   ],
   "source": [
    "supercell = preprocess_data.get_supercell()\n",
    "print(supercell.cell)"
   ]
  },
  {
   "attachments": {},
   "cell_type": "markdown",
   "metadata": {},
   "source": [
    "```{admonition} Question\n",
    "Has the ``supercell.cell`` the expected values?\n",
    "```\n",
    "\n",
    "Finally, as you have probably understood, the *supercells with displacements*,\n",
    "needed for frozen phonons, are easily accessed via:"
   ]
  },
  {
   "cell_type": "code",
   "execution_count": 6,
   "metadata": {},
   "outputs": [
    {
     "name": "stdout",
     "output_type": "stream",
     "text": [
      "{'supercell_1': <StructureData: uuid: b47b4a4f-3168-483b-b19b-d704a66b3278 (unstored)>}\n"
     ]
    }
   ],
   "source": [
    "supercells = preprocess_data.get_supercells_with_displacements()\n",
    "print(supercells)"
   ]
  },
  {
   "attachments": {},
   "cell_type": "markdown",
   "metadata": {},
   "source": [
    "The method returns a dictionary with keys to identify the different ``StructureData``.\n",
    "\n",
    "```{admonition} Exercise\n",
    "How many structures there are? Can you explain why that number?\n",
    "```\n",
    "\n",
    "```{important}\n",
    "These keys have a one-to-one correspondence with the displacement dataset,\n",
    "also stored in the ``PreProcessData``. Do **never** modify them, as they will\n",
    "be needed later to collect correctly the forces associated to each of them.\n",
    "```\n",
    "\n",
    "To obtain phonon information, the next step is to compute the forces on each of these ``StructureData``,\n",
    "e.g. using the [aiida-quantumespresso](https://aiida-quantumespresso.readthedocs.io/en/latest/)\n",
    "{py:class}`~aiida_quantumespresso.workflows.pw.base.PwBaseWorkChain`.\n",
    "\n",
    "Before ending this section, *have you noticed something about all the* ``StructureData``?\n",
    "\n",
    "**They are all not stored!** This means they are not connected with a link in the graph to the\n",
    "``PreProcessData``. To do so, you can use the `calcfunction` utilities we provide within the\n",
    "``PreProcessData``, and access the very same methods. For example:"
   ]
  },
  {
   "cell_type": "code",
   "execution_count": 7,
   "metadata": {},
   "outputs": [
    {
     "name": "stderr",
     "output_type": "stream",
     "text": [
      "05/10/2023 09:19:39 AM <2277112> aiida.engine.processes.functions: [WARNING] function `generate_preprocess_data` has invalid type hints: unsupported operand type(s) for |: 'AbstractNodeMeta' and 'NoneType'\n",
      "05/10/2023 09:19:39 AM <2277112> aiida.engine.processes.functions: [WARNING] function `generate_phonopy_data` has invalid type hints: unsupported operand type(s) for |: 'AbstractNodeMeta' and 'NoneType'\n"
     ]
    },
    {
     "name": "stdout",
     "output_type": "stream",
     "text": [
      "{'supercell_1': <StructureData: uuid: 80d2a02f-bd30-40ef-9cd7-dd8791113e6f (pk: 4)>}\n"
     ]
    }
   ],
   "source": [
    "supercells = preprocess_data.calcfunctions.get_supercells_with_displacements()\n",
    "print(supercells)"
   ]
  },
  {
   "attachments": {},
   "cell_type": "markdown",
   "metadata": {},
   "source": [
    "```{admonition} Question\n",
    "Are they now stored? And the ``preprocess_data``?\n",
    "```"
   ]
  },
  {
   "attachments": {},
   "cell_type": "markdown",
   "metadata": {},
   "source": [
    "\n",
    "## Collecting the forces for post-processing\n",
    "\n",
    "Once the structures with displacements are defined, before being able to calculate phonon properties,\n",
    "we need to compute the **forces** on each ``StructureData``.\n",
    "\n",
    "Imagine we have already computed these forces via the [aiida-quantumespresso](https://aiida-quantumespresso.readthedocs.io/en/latest/)\n",
    "{py:class}`~aiida_quantumespresso.workflows.pw.base.PwBaseWorkChain`. The result would be:"
   ]
  },
  {
   "cell_type": "code",
   "execution_count": 8,
   "metadata": {},
   "outputs": [],
   "source": [
    "# Raw array data computed using QuantumESPRESSO and PBEsol\n",
    "# Units of forces in eV/Angstrom\n",
    "# Should contain all forces of all supercells with displacements\n",
    "dict_of_forces = {\n",
    "    \"forces_1\": # Forces of Supercell 1 (with displacement)\n",
    "    [\n",
    "        [-1.54754697e-03, -9.61674843e-02, -9.61674843e-02], # force on atom 1\n",
    "        [ 2.31399281e-06,  6.38482038e-03,  6.38482038e-03], # force on atom 2\n",
    "        [ 3.43602221e-03, -6.21769868e-03,  2.87834994e-03], # force on atom 3\n",
    "        [-3.48847271e-03,  2.97502342e-03, -6.20510027e-03], # force on atom 4\n",
    "        [ 3.43602221e-03,  2.87834994e-03, -6.21769868e-03], # force on atom 5\n",
    "        [-3.48847271e-03, -6.20510027e-03,  2.97502342e-03], # force on atom 6\n",
    "        [ 2.93105756e-05, -5.08564197e-04, -5.08564197e-04], # force on atom 7\n",
    "        [-3.85665468e-05,  9.59278574e-04,  9.59278574e-04], # force on atom 8\n",
    "        [ 3.38177193e-02,  4.19431765e-02,  4.19431765e-02], # force on atom 9\n",
    "        [-3.22511462e-02,  4.08964805e-02,  4.08964805e-02], # force on atom 10\n",
    "        [ 1.00015911e-04,  8.34940027e-03,  8.39439458e-03], # force on atom 11\n",
    "        [-6.47917986e-05, -1.89901677e-03, -1.89284612e-03], # force on atom 12\n",
    "        [ 1.00015911e-04,  8.39439458e-03,  8.34940027e-03], # force on atom 13\n",
    "        [-6.47917986e-05, -1.89284612e-03, -1.89901677e-03], # force on atom 14\n",
    "        [-1.98951959e-03, -1.20841847e-05, -1.20841847e-05], # force on atom 15\n",
    "        [ 2.01163108e-03,  1.22127398e-04,  1.22127398e-04], # force on atom 16\n",
    "    ]\n",
    "# if we had other forces we would continue\n",
    "#   \"forces_2\": [...],\n",
    "#   \"forces_3\": [...], \n",
    "#   ...\n",
    "}"
   ]
  },
  {
   "attachments": {},
   "cell_type": "markdown",
   "metadata": {},
   "source": [
    "\n",
    "For the case of Si, only the forces of one supercell with displacements are needed (check again above).\n",
    "We now join these forces together with the ``PreProcessData`` obtained before in a new data meant to store together this information, called {py:class}`~aiida_phonopy.data.phonopy.PhonopyData`."
   ]
  },
  {
   "cell_type": "code",
   "execution_count": 9,
   "metadata": {},
   "outputs": [],
   "source": [
    "PhonopyData = DataFactory(\"phonopy.phonopy\")\n",
    "\n",
    "phonopy_data =  PhonopyData(preprocess_data=preprocess_data)\n",
    "phonopy_data.set_forces(dict_of_forces=dict_of_forces)"
   ]
  },
  {
   "attachments": {},
   "cell_type": "markdown",
   "metadata": {},
   "source": [
    "Each key must be of the shape ``forces_{i}``, ``{i}`` referring to the number of the supercell provided in the dictionary of ``supercells_with_displacements``.\n",
    "\n",
    "If we want to keep provenance, linking forces stored as ``ArrayData`` computed using a ``CalcJob`` or ``WorkChain`` input, we can use the dedicated ``calcfunction`` from the `preprocess_data` stored before.\n",
    "\n",
    "```{important} Convention\n",
    "Each ArrayData must contain the forces within the arrayname **forces**!\n",
    "```"
   ]
  },
  {
   "cell_type": "code",
   "execution_count": 10,
   "metadata": {},
   "outputs": [],
   "source": [
    "import numpy as np\n",
    "from aiida.orm import ArrayData\n",
    "\n",
    "# The ArrayData/TrajectoryData of an AiiDA plugin, e.g. aiida-quantumespresso\n",
    "forces_1 = ArrayData()\n",
    "forces_1.set_array(\"forces\", np.array(dict_of_forces['forces_1']) )\n",
    "dict_of_forces = {'forces_1': forces_1}\n",
    "\n",
    "phonopy_data = preprocess_data.calcfunctions.generate_phonopy_data(**dict_of_forces)"
   ]
  },
  {
   "attachments": {},
   "cell_type": "markdown",
   "metadata": {},
   "source": [
    "\n",
    "## Running `phonopy` for post-processing\n",
    "\n",
    "```{important}\n",
    "If you haven't done it yet, configure a ``Code`` for the ``phonopy`` executable. See [here](../installation/index/installation-setup) for more details.\n",
    "```\n",
    "\n",
    "It is finally time to post-process our produced data and get some phonon properties! \n",
    "To do so, we can now use the {py:class}`~aiida_phonopy.calculations.phonopy.PhonopyCalculation`."
   ]
  },
  {
   "cell_type": "code",
   "execution_count": 11,
   "metadata": {},
   "outputs": [],
   "source": [
    "from aiida.plugins import CalculationFactory\n",
    "\n",
    "PhonopyCalculation = CalculationFactory(\"phonopy.phonopy\")"
   ]
  },
  {
   "attachments": {},
   "cell_type": "markdown",
   "metadata": {},
   "source": [
    "As usual for calculations in AiiDA, we can get the builder to understand which inputs are needed.\n",
    "\n",
    "```{note}\n",
    "For a full list of inputs, you can have a look at the [topic section](../topics/calculations/phonopy.rst) for {py:class}`~aiida_phonopy.calculations.phonopy.PhonopyCalculation`.\n",
    "```"
   ]
  },
  {
   "cell_type": "code",
   "execution_count": 12,
   "metadata": {},
   "outputs": [],
   "source": [
    "builder = PhonopyCalculation.get_builder()"
   ]
  },
  {
   "attachments": {},
   "cell_type": "markdown",
   "metadata": {},
   "source": [
    "Let's define the inputs:\n",
    "\n",
    "* ``code``: the ``Code`` which will run the phonopy post-processing\n",
    "* ``phonopy_data``: the Data node containing the information regarding structure, supercell, displacements and forces\n",
    "* ``parameters``: the dictionary with key/pair tags of properties to compute (for a full list, refer to the [Phonopy Documentation](https://phonopy.github.io/phonopy/setting-tags.html))\n",
    "\n",
    "In the following, we will ask for an automatic **phonon band structure** calculaiton."
   ]
  },
  {
   "cell_type": "code",
   "execution_count": 13,
   "metadata": {},
   "outputs": [],
   "source": [
    "from aiida.orm import load_code, Dict\n",
    "\n",
    "builder.code = load_code(\"phonopy@local_direct\") # WARNING! You may redefine this\n",
    "builder.phonopy_data = phonopy_data\n",
    "builder.parameters = Dict({\"band\":\"auto\"})"
   ]
  },
  {
   "attachments": {},
   "cell_type": "markdown",
   "metadata": {},
   "source": [
    "And now submit the calculation!"
   ]
  },
  {
   "cell_type": "code",
   "execution_count": 14,
   "metadata": {},
   "outputs": [],
   "source": [
    "from aiida.engine import run_get_node\n",
    "\n",
    "results, node = run_get_node(builder)"
   ]
  },
  {
   "attachments": {},
   "cell_type": "markdown",
   "metadata": {},
   "source": [
    "Alternatively, the same can be achieved via the following syntax:"
   ]
  },
  {
   "cell_type": "code",
   "execution_count": 22,
   "metadata": {},
   "outputs": [],
   "source": [
    "inputs = {\n",
    "    \"code\": load_code(\"phonopy@local_direct\"),\n",
    "    \"phonopy_data\": phonopy_data,\n",
    "    \"parameters\": Dict({\"band\":\"auto\"})\n",
    "}\n",
    "\n",
    "# from aiida.engine import submit\n",
    "# node = submit(PhonopyCalculation, **inputs)"
   ]
  },
  {
   "attachments": {},
   "cell_type": "markdown",
   "metadata": {},
   "source": [
    "These are the results:"
   ]
  },
  {
   "cell_type": "code",
   "execution_count": 16,
   "metadata": {},
   "outputs": [
    {
     "data": {
      "text/plain": [
       "{'output_parameters': <Dict: uuid: 7c0291dd-86d5-4141-8fbf-ff4bee724d99 (pk: 12)>,\n",
       " 'phonon_bands': <BandsData: uuid: 517dfb4b-eb3d-46bb-bb44-8831c5248b98 (pk: 13)>,\n",
       " 'remote_folder': <RemoteData: uuid: 83632056-3714-449e-9b89-2195767a9806 (pk: 10)>,\n",
       " 'retrieved': <FolderData: uuid: fb9bf37e-37ff-4f5e-8c26-4dc28ac32e8c (pk: 11)>}"
      ]
     },
     "execution_count": 16,
     "metadata": {},
     "output_type": "execute_result"
    }
   ],
   "source": [
    "results"
   ]
  },
  {
   "attachments": {},
   "cell_type": "markdown",
   "metadata": {},
   "source": [
    "We can now explore the outputs! To do so, just type `calc.outputs.` and then press Tab for exploring the outputs!\n",
    "\n",
    "```{admonition} Question\n",
    "Is there what you expect? Any ``BandsData``?\n",
    "```\n",
    "\n",
    "We can now use the ``phonon_bands`` to plot them directly on screen."
   ]
  },
  {
   "cell_type": "code",
   "execution_count": 17,
   "metadata": {},
   "outputs": [
    {
     "data": {
      "image/png": "[encoded data removed]",
      "text/plain": [
       "<Figure size 640x480 with 1 Axes>"
      ]
     },
     "metadata": {},
     "output_type": "display_data"
    }
   ],
   "source": [
    "node.outputs.phonon_bands.show_mpl()"
   ]
  }
 ],
 "metadata": {
  "kernelspec": {
   "display_name": "base",
   "language": "python",
   "name": "python3"
  },
  "language_info": {
   "codemirror_mode": {
    "name": "ipython",
    "version": 3
   },
   "file_extension": ".py",
   "mimetype": "text/x-python",
   "name": "python",
   "nbconvert_exporter": "python",
   "pygments_lexer": "ipython3",
   "version": "3.8.10"
  },
  "orig_nbformat": 4,
  "vscode": {
   "interpreter": {
    "hash": "d4d1e4263499bec80672ea0156c357c1ee493ec2b1c70f0acce89fc37c4a6abe"
   }
  }
 },
 "nbformat": 4,
 "nbformat_minor": 2
}
